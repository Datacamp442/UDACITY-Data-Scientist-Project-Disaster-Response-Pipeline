{
 "cells": [
  {
   "cell_type": "markdown",
   "metadata": {},
   "source": [
    "# ML Pipeline Preparation\n",
    "Follow the instructions below to help you create your ML pipeline.\n",
    "### 1. Import libraries and load data from database.\n",
    "- Import Python libraries\n",
    "- Load dataset from database with [`read_sql_table`](https://pandas.pydata.org/pandas-docs/stable/generated/pandas.read_sql_table.html)\n",
    "- Define feature and target variables X and Y"
   ]
  },
  {
   "cell_type": "code",
   "execution_count": 1,
   "metadata": {},
   "outputs": [
    {
     "name": "stderr",
     "output_type": "stream",
     "text": [
      "[nltk_data] Downloading package punkt to\n",
      "[nltk_data]     C:\\Users\\Birgit\\AppData\\Roaming\\nltk_data...\n",
      "[nltk_data]   Package punkt is already up-to-date!\n",
      "[nltk_data] Downloading package stopwords to\n",
      "[nltk_data]     C:\\Users\\Birgit\\AppData\\Roaming\\nltk_data...\n",
      "[nltk_data]   Package stopwords is already up-to-date!\n",
      "[nltk_data] Downloading package wordnet to\n",
      "[nltk_data]     C:\\Users\\Birgit\\AppData\\Roaming\\nltk_data...\n",
      "[nltk_data]   Package wordnet is already up-to-date!\n",
      "[nltk_data] Downloading package averaged_perceptron_tagger to\n",
      "[nltk_data]     C:\\Users\\Birgit\\AppData\\Roaming\\nltk_data...\n",
      "[nltk_data]   Package averaged_perceptron_tagger is already up-to-\n",
      "[nltk_data]       date!\n"
     ]
    }
   ],
   "source": [
    "# import libraries\n",
    "import sqlite3\n",
    "import pandas as pd\n",
    "import numpy as np\n",
    "import re\n",
    "from sqlalchemy import create_engine\n",
    "\n",
    "\n",
    "import nltk\n",
    "from nltk.tokenize import word_tokenize\n",
    "from nltk.corpus import stopwords\n",
    "from nltk.stem.wordnet import WordNetLemmatizer\n",
    "nltk.download(['punkt', 'stopwords','wordnet', 'averaged_perceptron_tagger'])\n",
    "\n",
    "from sklearn.metrics import classification_report, confusion_matrix\n",
    "from sklearn.model_selection import train_test_split, GridSearchCV\n",
    "from sklearn.ensemble import RandomForestClassifier, AdaBoostClassifier\n",
    "from sklearn.pipeline import Pipeline, FeatureUnion\n",
    "from sklearn.base import BaseEstimator, TransformerMixin\n",
    "from sklearn.feature_extraction.text import CountVectorizer, TfidfTransformer\n",
    "from sklearn.multioutput import MultiOutputClassifier\n",
    "from sklearn.tree import DecisionTreeClassifier\n",
    "\n",
    "\n",
    "import pickle"
   ]
  },
  {
   "cell_type": "code",
   "execution_count": 2,
   "metadata": {},
   "outputs": [
    {
     "data": {
      "text/html": [
       "<div>\n",
       "<style scoped>\n",
       "    .dataframe tbody tr th:only-of-type {\n",
       "        vertical-align: middle;\n",
       "    }\n",
       "\n",
       "    .dataframe tbody tr th {\n",
       "        vertical-align: top;\n",
       "    }\n",
       "\n",
       "    .dataframe thead th {\n",
       "        text-align: right;\n",
       "    }\n",
       "</style>\n",
       "<table border=\"1\" class=\"dataframe\">\n",
       "  <thead>\n",
       "    <tr style=\"text-align: right;\">\n",
       "      <th></th>\n",
       "      <th>id</th>\n",
       "      <th>message</th>\n",
       "      <th>original</th>\n",
       "      <th>genre</th>\n",
       "      <th>related</th>\n",
       "      <th>request</th>\n",
       "      <th>offer</th>\n",
       "      <th>aid_related</th>\n",
       "      <th>medical_help</th>\n",
       "      <th>medical_products</th>\n",
       "      <th>...</th>\n",
       "      <th>aid_centers</th>\n",
       "      <th>other_infrastructure</th>\n",
       "      <th>weather_related</th>\n",
       "      <th>floods</th>\n",
       "      <th>storm</th>\n",
       "      <th>fire</th>\n",
       "      <th>earthquake</th>\n",
       "      <th>cold</th>\n",
       "      <th>other_weather</th>\n",
       "      <th>direct_report</th>\n",
       "    </tr>\n",
       "  </thead>\n",
       "  <tbody>\n",
       "    <tr>\n",
       "      <th>0</th>\n",
       "      <td>2</td>\n",
       "      <td>Weather update - a cold front from Cuba that c...</td>\n",
       "      <td>Un front froid se retrouve sur Cuba ce matin. ...</td>\n",
       "      <td>direct</td>\n",
       "      <td>1</td>\n",
       "      <td>0</td>\n",
       "      <td>0</td>\n",
       "      <td>0</td>\n",
       "      <td>0</td>\n",
       "      <td>0</td>\n",
       "      <td>...</td>\n",
       "      <td>0</td>\n",
       "      <td>0</td>\n",
       "      <td>0</td>\n",
       "      <td>0</td>\n",
       "      <td>0</td>\n",
       "      <td>0</td>\n",
       "      <td>0</td>\n",
       "      <td>0</td>\n",
       "      <td>0</td>\n",
       "      <td>0</td>\n",
       "    </tr>\n",
       "    <tr>\n",
       "      <th>1</th>\n",
       "      <td>7</td>\n",
       "      <td>Is the Hurricane over or is it not over</td>\n",
       "      <td>Cyclone nan fini osinon li pa fini</td>\n",
       "      <td>direct</td>\n",
       "      <td>1</td>\n",
       "      <td>0</td>\n",
       "      <td>0</td>\n",
       "      <td>1</td>\n",
       "      <td>0</td>\n",
       "      <td>0</td>\n",
       "      <td>...</td>\n",
       "      <td>0</td>\n",
       "      <td>0</td>\n",
       "      <td>1</td>\n",
       "      <td>0</td>\n",
       "      <td>1</td>\n",
       "      <td>0</td>\n",
       "      <td>0</td>\n",
       "      <td>0</td>\n",
       "      <td>0</td>\n",
       "      <td>0</td>\n",
       "    </tr>\n",
       "    <tr>\n",
       "      <th>2</th>\n",
       "      <td>8</td>\n",
       "      <td>Looking for someone but no name</td>\n",
       "      <td>Patnm, di Maryani relem pou li banm nouvel li ...</td>\n",
       "      <td>direct</td>\n",
       "      <td>1</td>\n",
       "      <td>0</td>\n",
       "      <td>0</td>\n",
       "      <td>0</td>\n",
       "      <td>0</td>\n",
       "      <td>0</td>\n",
       "      <td>...</td>\n",
       "      <td>0</td>\n",
       "      <td>0</td>\n",
       "      <td>0</td>\n",
       "      <td>0</td>\n",
       "      <td>0</td>\n",
       "      <td>0</td>\n",
       "      <td>0</td>\n",
       "      <td>0</td>\n",
       "      <td>0</td>\n",
       "      <td>0</td>\n",
       "    </tr>\n",
       "  </tbody>\n",
       "</table>\n",
       "<p>3 rows × 40 columns</p>\n",
       "</div>"
      ],
      "text/plain": [
       "   id                                            message  \\\n",
       "0   2  Weather update - a cold front from Cuba that c...   \n",
       "1   7            Is the Hurricane over or is it not over   \n",
       "2   8                    Looking for someone but no name   \n",
       "\n",
       "                                            original   genre  related  \\\n",
       "0  Un front froid se retrouve sur Cuba ce matin. ...  direct        1   \n",
       "1                 Cyclone nan fini osinon li pa fini  direct        1   \n",
       "2  Patnm, di Maryani relem pou li banm nouvel li ...  direct        1   \n",
       "\n",
       "   request  offer  aid_related  medical_help  medical_products  ...  \\\n",
       "0        0      0            0             0                 0  ...   \n",
       "1        0      0            1             0                 0  ...   \n",
       "2        0      0            0             0                 0  ...   \n",
       "\n",
       "   aid_centers  other_infrastructure  weather_related  floods  storm  fire  \\\n",
       "0            0                     0                0       0      0     0   \n",
       "1            0                     0                1       0      1     0   \n",
       "2            0                     0                0       0      0     0   \n",
       "\n",
       "   earthquake  cold  other_weather  direct_report  \n",
       "0           0     0              0              0  \n",
       "1           0     0              0              0  \n",
       "2           0     0              0              0  \n",
       "\n",
       "[3 rows x 40 columns]"
      ]
     },
     "execution_count": 2,
     "metadata": {},
     "output_type": "execute_result"
    }
   ],
   "source": [
    "# load data from database\n",
    "engine = create_engine('sqlite:///DisasterResponse.db')\n",
    "df = pd.read_sql_table('DisasterResponseTable', engine)\n",
    "\n",
    "df.head(3)"
   ]
  },
  {
   "cell_type": "code",
   "execution_count": 3,
   "metadata": {},
   "outputs": [],
   "source": [
    "# define X features values\n",
    "X = df['message']\n",
    "\n",
    "# define Y - target values, being the values you want to try to predict\n",
    "# skip the first four columns id, message, original and genre\n",
    "Y = df[df.columns[4:]]"
   ]
  },
  {
   "cell_type": "markdown",
   "metadata": {},
   "source": [
    "### 2. Write a tokenization function to process your text data"
   ]
  },
  {
   "cell_type": "code",
   "execution_count": 4,
   "metadata": {},
   "outputs": [],
   "source": [
    "def tokenize(text):\n",
    "    \n",
    "    \"\"\"\n",
    "    Clean, normalize, tokenize and lemmonize the text\n",
    "    \n",
    "    Input:\n",
    "        text: text that needs to bei transformed\n",
    "        \n",
    "    Output:\n",
    "        token_final: cleaned, normalizend and lemmonized text tokens\n",
    "\n",
    "    \"\"\"\n",
    "    \n",
    "    # define url_regex as the regular expression to detect a url\n",
    "    url_regex = 'http[s]?://(?:[a-zA-Z]|[0-9]|[$-_@.&+]|[!*\\(\\),]|(?:%[0-9a-fA-F][0-9a-fA-F]))+'\n",
    "    # get list of all urls using regex\n",
    "    detected_urls = re.findall(url_regex, text)\n",
    "    # replace each url in text string with placeholder\n",
    "    for url in detected_urls:\n",
    "        text = text.replace(url, \"urlplaceholder\")\n",
    "\n",
    "    # Normalize text\n",
    "    # Remove punctuation characters and convert to lowercase in one step\n",
    "    text = re.sub(r\"[^a-zA-Z0-9]\", \" \", text.lower())\n",
    "\n",
    "    # Tokenize text\n",
    "    # Split text into words using NLTK\n",
    "    token = word_tokenize(text)\n",
    "\n",
    "    # Remove stop words\n",
    "    token = [w for w in token if w not in stopwords.words(\"english\")]\n",
    "\n",
    "    # Reduce words to their root form\n",
    "    lemmed = [WordNetLemmatizer().lemmatize(w) for w in token]\n",
    "\n",
    "    # Lemmatize verbs by specifying pos\n",
    "    token_final = [WordNetLemmatizer().lemmatize(w, pos='v') for w in lemmed]\n",
    "\n",
    "    return token_final\n",
    "\n"
   ]
  },
  {
   "cell_type": "markdown",
   "metadata": {},
   "source": [
    "### 3. Build a machine learning pipeline\n",
    "This machine pipeline should take in the `message` column as input and output classification results on the other 36 categories in the dataset. You may find the [MultiOutputClassifier](http://scikit-learn.org/stable/modules/generated/sklearn.multioutput.MultiOutputClassifier.html) helpful for predicting multiple target variables."
   ]
  },
  {
   "cell_type": "code",
   "execution_count": 5,
   "metadata": {},
   "outputs": [],
   "source": [
    "# build pipeline\n",
    "pipeline = Pipeline([\n",
    "    ('vect', CountVectorizer()),\n",
    "    ('tfidf', TfidfTransformer()),\n",
    "    ('clf', MultiOutputClassifier(RandomForestClassifier(random_state=42)))\n",
    "])"
   ]
  },
  {
   "cell_type": "markdown",
   "metadata": {},
   "source": [
    "### 4. Train pipeline\n",
    "- Split data into train and test sets\n",
    "- Train pipeline"
   ]
  },
  {
   "cell_type": "code",
   "execution_count": 6,
   "metadata": {},
   "outputs": [],
   "source": [
    "# Split data into random train and test subsets\n",
    "X_train, X_test, Y_train, Y_test = train_test_split(X,Y, test_size=0.2, random_state=42)\n",
    "\n",
    "# train classifier\n",
    "pipeline_fit = pipeline.fit(X_train, Y_train)\n"
   ]
  },
  {
   "cell_type": "markdown",
   "metadata": {},
   "source": [
    "### 5. Test your model\n",
    "Report the f1 score, precision and recall for each output category of the dataset. You can do this by iterating through the columns and calling sklearn's `classification_report` on each."
   ]
  },
  {
   "cell_type": "code",
   "execution_count": 7,
   "metadata": {},
   "outputs": [],
   "source": [
    "# Predict test labels\n",
    "Y_pred = pipeline_fit.predict(X_test)"
   ]
  },
  {
   "cell_type": "code",
   "execution_count": 8,
   "metadata": {},
   "outputs": [
    {
     "name": "stdout",
     "output_type": "stream",
     "text": [
      "                        precision    recall  f1-score   support\n",
      "\n",
      "               related       0.81      0.96      0.88      3998\n",
      "               request       0.88      0.42      0.57       891\n",
      "                 offer       0.00      0.00      0.00        24\n",
      "           aid_related       0.79      0.61      0.69      2164\n",
      "          medical_help       0.68      0.04      0.08       435\n",
      "      medical_products       0.79      0.05      0.10       279\n",
      "     search_and_rescue       0.75      0.02      0.04       136\n",
      "              security       0.33      0.01      0.02        96\n",
      "              military       0.73      0.05      0.09       158\n",
      "           child_alone       0.00      0.00      0.00         0\n",
      "                 water       0.88      0.27      0.42       335\n",
      "                  food       0.89      0.42      0.58       584\n",
      "               shelter       0.89      0.26      0.41       468\n",
      "              clothing       0.90      0.13      0.23        70\n",
      "                 money       0.88      0.06      0.12       112\n",
      "        missing_people       1.00      0.02      0.03        63\n",
      "              refugees       0.40      0.01      0.02       170\n",
      "                 death       0.86      0.13      0.22       247\n",
      "             other_aid       0.83      0.01      0.03       692\n",
      "infrastructure_related       0.00      0.00      0.00       336\n",
      "             transport       0.68      0.06      0.12       235\n",
      "             buildings       0.87      0.07      0.14       269\n",
      "           electricity       1.00      0.02      0.03       115\n",
      "                 tools       0.00      0.00      0.00        35\n",
      "             hospitals       0.00      0.00      0.00        52\n",
      "                 shops       0.00      0.00      0.00        25\n",
      "           aid_centers       0.00      0.00      0.00        64\n",
      "  other_infrastructure       0.00      0.00      0.00       225\n",
      "       weather_related       0.86      0.66      0.74      1472\n",
      "                floods       0.91      0.37      0.53       431\n",
      "                 storm       0.78      0.46      0.58       479\n",
      "                  fire       1.00      0.02      0.04        53\n",
      "            earthquake       0.89      0.76      0.82       515\n",
      "                  cold       0.82      0.09      0.16       104\n",
      "         other_weather       0.71      0.04      0.07       267\n",
      "         direct_report       0.82      0.34      0.48      1010\n",
      "\n",
      "             micro avg       0.82      0.50      0.62     16609\n",
      "             macro avg       0.63      0.18      0.23     16609\n",
      "          weighted avg       0.78      0.50      0.54     16609\n",
      "           samples avg       0.69      0.46      0.51     16609\n",
      "\n"
     ]
    }
   ],
   "source": [
    "# Print classification report on test data\n",
    "print(classification_report(Y_test.values, Y_pred, target_names=Y.columns.values, zero_division=0))"
   ]
  },
  {
   "cell_type": "code",
   "execution_count": 9,
   "metadata": {
    "scrolled": true
   },
   "outputs": [
    {
     "name": "stdout",
     "output_type": "stream",
     "text": [
      "Labels: [0 1]\n",
      "Confusion Matrix:\n",
      " [[5241    0]\n",
      " [   0    0]]\n",
      "Accuracy:\n",
      " related                   0.801259\n",
      "request                   0.892237\n",
      "offer                     0.995422\n",
      "aid_related               0.772649\n",
      "medical_help              0.918940\n",
      "medical_products          0.948884\n",
      "search_and_rescue         0.974442\n",
      "security                  0.981499\n",
      "military                  0.970818\n",
      "child_alone               1.000000\n",
      "water                     0.951364\n",
      "food                      0.930193\n",
      "shelter                   0.931337\n",
      "clothing                  0.988175\n",
      "money                     0.979783\n",
      "missing_people            0.988175\n",
      "refugees                  0.967385\n",
      "death                     0.957849\n",
      "other_aid                 0.869540\n",
      "infrastructure_related    0.935915\n",
      "transport                 0.956704\n",
      "buildings                 0.951936\n",
      "electricity               0.978447\n",
      "tools                     0.993324\n",
      "hospitals                 0.990082\n",
      "shops                     0.995232\n",
      "aid_centers               0.987793\n",
      "other_infrastructure      0.956704\n",
      "weather_related           0.873736\n",
      "floods                    0.945642\n",
      "storm                     0.938776\n",
      "fire                      0.990082\n",
      "earthquake                0.967194\n",
      "cold                      0.981499\n",
      "other_weather             0.950219\n",
      "direct_report             0.858287\n",
      "dtype: float64\n"
     ]
    }
   ],
   "source": [
    "# show confusion matrix\n",
    "labels = np.unique(Y_pred)\n",
    "confusion_mat = confusion_matrix(Y_test.values.argmax(axis=1),Y_pred.argmax(axis=1),labels=labels)\n",
    "accuracy = (Y_pred == Y_test).mean()\n",
    "\n",
    "print(\"Labels:\", labels)\n",
    "print(\"Confusion Matrix:\\n\", confusion_mat)\n",
    "print(\"Accuracy:\\n\", accuracy)"
   ]
  },
  {
   "cell_type": "markdown",
   "metadata": {},
   "source": [
    "### 6. Improve your model\n",
    "Use grid search to find better parameters. "
   ]
  },
  {
   "cell_type": "code",
   "execution_count": 10,
   "metadata": {},
   "outputs": [],
   "source": [
    "# set parameters \n",
    "parameters = {'clf__estimator__n_estimators':[5]\n",
    "                #'clf__estimator__n_estimators': [20, 50],\n",
    "                #'clf__estimator__min_samples_split': [2, 4],\n",
    "                #'clf__estimator__max_features': ['sqrt', 'log2']\n",
    "                }\n",
    "\n",
    "# new model with improved parameters\n",
    "cv = GridSearchCV(pipeline, param_grid=parameters, cv = 2)\n"
   ]
  },
  {
   "cell_type": "code",
   "execution_count": 11,
   "metadata": {},
   "outputs": [
    {
     "data": {
      "text/html": [
       "<style>#sk-container-id-1 {color: black;background-color: white;}#sk-container-id-1 pre{padding: 0;}#sk-container-id-1 div.sk-toggleable {background-color: white;}#sk-container-id-1 label.sk-toggleable__label {cursor: pointer;display: block;width: 100%;margin-bottom: 0;padding: 0.3em;box-sizing: border-box;text-align: center;}#sk-container-id-1 label.sk-toggleable__label-arrow:before {content: \"▸\";float: left;margin-right: 0.25em;color: #696969;}#sk-container-id-1 label.sk-toggleable__label-arrow:hover:before {color: black;}#sk-container-id-1 div.sk-estimator:hover label.sk-toggleable__label-arrow:before {color: black;}#sk-container-id-1 div.sk-toggleable__content {max-height: 0;max-width: 0;overflow: hidden;text-align: left;background-color: #f0f8ff;}#sk-container-id-1 div.sk-toggleable__content pre {margin: 0.2em;color: black;border-radius: 0.25em;background-color: #f0f8ff;}#sk-container-id-1 input.sk-toggleable__control:checked~div.sk-toggleable__content {max-height: 200px;max-width: 100%;overflow: auto;}#sk-container-id-1 input.sk-toggleable__control:checked~label.sk-toggleable__label-arrow:before {content: \"▾\";}#sk-container-id-1 div.sk-estimator input.sk-toggleable__control:checked~label.sk-toggleable__label {background-color: #d4ebff;}#sk-container-id-1 div.sk-label input.sk-toggleable__control:checked~label.sk-toggleable__label {background-color: #d4ebff;}#sk-container-id-1 input.sk-hidden--visually {border: 0;clip: rect(1px 1px 1px 1px);clip: rect(1px, 1px, 1px, 1px);height: 1px;margin: -1px;overflow: hidden;padding: 0;position: absolute;width: 1px;}#sk-container-id-1 div.sk-estimator {font-family: monospace;background-color: #f0f8ff;border: 1px dotted black;border-radius: 0.25em;box-sizing: border-box;margin-bottom: 0.5em;}#sk-container-id-1 div.sk-estimator:hover {background-color: #d4ebff;}#sk-container-id-1 div.sk-parallel-item::after {content: \"\";width: 100%;border-bottom: 1px solid gray;flex-grow: 1;}#sk-container-id-1 div.sk-label:hover label.sk-toggleable__label {background-color: #d4ebff;}#sk-container-id-1 div.sk-serial::before {content: \"\";position: absolute;border-left: 1px solid gray;box-sizing: border-box;top: 0;bottom: 0;left: 50%;z-index: 0;}#sk-container-id-1 div.sk-serial {display: flex;flex-direction: column;align-items: center;background-color: white;padding-right: 0.2em;padding-left: 0.2em;position: relative;}#sk-container-id-1 div.sk-item {position: relative;z-index: 1;}#sk-container-id-1 div.sk-parallel {display: flex;align-items: stretch;justify-content: center;background-color: white;position: relative;}#sk-container-id-1 div.sk-item::before, #sk-container-id-1 div.sk-parallel-item::before {content: \"\";position: absolute;border-left: 1px solid gray;box-sizing: border-box;top: 0;bottom: 0;left: 50%;z-index: -1;}#sk-container-id-1 div.sk-parallel-item {display: flex;flex-direction: column;z-index: 1;position: relative;background-color: white;}#sk-container-id-1 div.sk-parallel-item:first-child::after {align-self: flex-end;width: 50%;}#sk-container-id-1 div.sk-parallel-item:last-child::after {align-self: flex-start;width: 50%;}#sk-container-id-1 div.sk-parallel-item:only-child::after {width: 0;}#sk-container-id-1 div.sk-dashed-wrapped {border: 1px dashed gray;margin: 0 0.4em 0.5em 0.4em;box-sizing: border-box;padding-bottom: 0.4em;background-color: white;}#sk-container-id-1 div.sk-label label {font-family: monospace;font-weight: bold;display: inline-block;line-height: 1.2em;}#sk-container-id-1 div.sk-label-container {text-align: center;}#sk-container-id-1 div.sk-container {/* jupyter's `normalize.less` sets `[hidden] { display: none; }` but bootstrap.min.css set `[hidden] { display: none !important; }` so we also need the `!important` here to be able to override the default hidden behavior on the sphinx rendered scikit-learn.org. See: https://github.com/scikit-learn/scikit-learn/issues/21755 */display: inline-block !important;position: relative;}#sk-container-id-1 div.sk-text-repr-fallback {display: none;}</style><div id=\"sk-container-id-1\" class=\"sk-top-container\"><div class=\"sk-text-repr-fallback\"><pre>GridSearchCV(cv=2,\n",
       "             estimator=Pipeline(steps=[(&#x27;vect&#x27;, CountVectorizer()),\n",
       "                                       (&#x27;tfidf&#x27;, TfidfTransformer()),\n",
       "                                       (&#x27;clf&#x27;,\n",
       "                                        MultiOutputClassifier(estimator=RandomForestClassifier(random_state=42)))]),\n",
       "             param_grid={&#x27;clf__estimator__n_estimators&#x27;: [5]})</pre><b>In a Jupyter environment, please rerun this cell to show the HTML representation or trust the notebook. <br />On GitHub, the HTML representation is unable to render, please try loading this page with nbviewer.org.</b></div><div class=\"sk-container\" hidden><div class=\"sk-item sk-dashed-wrapped\"><div class=\"sk-label-container\"><div class=\"sk-label sk-toggleable\"><input class=\"sk-toggleable__control sk-hidden--visually\" id=\"sk-estimator-id-1\" type=\"checkbox\" ><label for=\"sk-estimator-id-1\" class=\"sk-toggleable__label sk-toggleable__label-arrow\">GridSearchCV</label><div class=\"sk-toggleable__content\"><pre>GridSearchCV(cv=2,\n",
       "             estimator=Pipeline(steps=[(&#x27;vect&#x27;, CountVectorizer()),\n",
       "                                       (&#x27;tfidf&#x27;, TfidfTransformer()),\n",
       "                                       (&#x27;clf&#x27;,\n",
       "                                        MultiOutputClassifier(estimator=RandomForestClassifier(random_state=42)))]),\n",
       "             param_grid={&#x27;clf__estimator__n_estimators&#x27;: [5]})</pre></div></div></div><div class=\"sk-parallel\"><div class=\"sk-parallel-item\"><div class=\"sk-item\"><div class=\"sk-label-container\"><div class=\"sk-label sk-toggleable\"><input class=\"sk-toggleable__control sk-hidden--visually\" id=\"sk-estimator-id-2\" type=\"checkbox\" ><label for=\"sk-estimator-id-2\" class=\"sk-toggleable__label sk-toggleable__label-arrow\">estimator: Pipeline</label><div class=\"sk-toggleable__content\"><pre>Pipeline(steps=[(&#x27;vect&#x27;, CountVectorizer()), (&#x27;tfidf&#x27;, TfidfTransformer()),\n",
       "                (&#x27;clf&#x27;,\n",
       "                 MultiOutputClassifier(estimator=RandomForestClassifier(random_state=42)))])</pre></div></div></div><div class=\"sk-serial\"><div class=\"sk-item\"><div class=\"sk-serial\"><div class=\"sk-item\"><div class=\"sk-estimator sk-toggleable\"><input class=\"sk-toggleable__control sk-hidden--visually\" id=\"sk-estimator-id-3\" type=\"checkbox\" ><label for=\"sk-estimator-id-3\" class=\"sk-toggleable__label sk-toggleable__label-arrow\">CountVectorizer</label><div class=\"sk-toggleable__content\"><pre>CountVectorizer()</pre></div></div></div><div class=\"sk-item\"><div class=\"sk-estimator sk-toggleable\"><input class=\"sk-toggleable__control sk-hidden--visually\" id=\"sk-estimator-id-4\" type=\"checkbox\" ><label for=\"sk-estimator-id-4\" class=\"sk-toggleable__label sk-toggleable__label-arrow\">TfidfTransformer</label><div class=\"sk-toggleable__content\"><pre>TfidfTransformer()</pre></div></div></div><div class=\"sk-item sk-dashed-wrapped\"><div class=\"sk-label-container\"><div class=\"sk-label sk-toggleable\"><input class=\"sk-toggleable__control sk-hidden--visually\" id=\"sk-estimator-id-5\" type=\"checkbox\" ><label for=\"sk-estimator-id-5\" class=\"sk-toggleable__label sk-toggleable__label-arrow\">clf: MultiOutputClassifier</label><div class=\"sk-toggleable__content\"><pre>MultiOutputClassifier(estimator=RandomForestClassifier(random_state=42))</pre></div></div></div><div class=\"sk-parallel\"><div class=\"sk-parallel-item\"><div class=\"sk-item\"><div class=\"sk-label-container\"><div class=\"sk-label sk-toggleable\"><input class=\"sk-toggleable__control sk-hidden--visually\" id=\"sk-estimator-id-6\" type=\"checkbox\" ><label for=\"sk-estimator-id-6\" class=\"sk-toggleable__label sk-toggleable__label-arrow\">estimator: RandomForestClassifier</label><div class=\"sk-toggleable__content\"><pre>RandomForestClassifier(random_state=42)</pre></div></div></div><div class=\"sk-serial\"><div class=\"sk-item\"><div class=\"sk-estimator sk-toggleable\"><input class=\"sk-toggleable__control sk-hidden--visually\" id=\"sk-estimator-id-7\" type=\"checkbox\" ><label for=\"sk-estimator-id-7\" class=\"sk-toggleable__label sk-toggleable__label-arrow\">RandomForestClassifier</label><div class=\"sk-toggleable__content\"><pre>RandomForestClassifier(random_state=42)</pre></div></div></div></div></div></div></div></div></div></div></div></div></div></div></div></div></div>"
      ],
      "text/plain": [
       "GridSearchCV(cv=2,\n",
       "             estimator=Pipeline(steps=[('vect', CountVectorizer()),\n",
       "                                       ('tfidf', TfidfTransformer()),\n",
       "                                       ('clf',\n",
       "                                        MultiOutputClassifier(estimator=RandomForestClassifier(random_state=42)))]),\n",
       "             param_grid={'clf__estimator__n_estimators': [5]})"
      ]
     },
     "execution_count": 11,
     "metadata": {},
     "output_type": "execute_result"
    }
   ],
   "source": [
    "# Fit or train the classifier\n",
    "cv.fit(X_train, Y_train)"
   ]
  },
  {
   "cell_type": "code",
   "execution_count": 12,
   "metadata": {},
   "outputs": [],
   "source": [
    "# Get the prediction values from the grid search cross validator\n",
    "Y_pred_cv = cv.predict(X_test)"
   ]
  },
  {
   "cell_type": "markdown",
   "metadata": {},
   "source": [
    "### 7. Test your model\n",
    "Show the accuracy, precision, and recall of the tuned model.  \n",
    "\n",
    "Since this project focuses on code quality, process, and  pipelines, there is no minimum performance metric needed to pass. However, make sure to fine tune your models for accuracy, precision and recall to make your project stand out - especially for your portfolio!"
   ]
  },
  {
   "cell_type": "code",
   "execution_count": 13,
   "metadata": {},
   "outputs": [
    {
     "name": "stdout",
     "output_type": "stream",
     "text": [
      "                        precision    recall  f1-score   support\n",
      "\n",
      "               related       0.82      0.93      0.87      3998\n",
      "               request       0.72      0.45      0.55       891\n",
      "                 offer       0.00      0.00      0.00        24\n",
      "           aid_related       0.68      0.55      0.61      2164\n",
      "          medical_help       0.54      0.14      0.22       435\n",
      "      medical_products       0.59      0.16      0.25       279\n",
      "     search_and_rescue       0.27      0.04      0.08       136\n",
      "              security       0.00      0.00      0.00        96\n",
      "              military       0.48      0.15      0.22       158\n",
      "           child_alone       0.00      0.00      0.00         0\n",
      "                 water       0.72      0.38      0.50       335\n",
      "                  food       0.74      0.48      0.58       584\n",
      "               shelter       0.69      0.31      0.42       468\n",
      "              clothing       0.70      0.20      0.31        70\n",
      "                 money       0.36      0.07      0.12       112\n",
      "        missing_people       0.00      0.00      0.00        63\n",
      "              refugees       0.44      0.13      0.20       170\n",
      "                 death       0.65      0.17      0.27       247\n",
      "             other_aid       0.38      0.08      0.14       692\n",
      "infrastructure_related       0.31      0.04      0.07       336\n",
      "             transport       0.41      0.08      0.13       235\n",
      "             buildings       0.53      0.17      0.26       269\n",
      "           electricity       0.56      0.04      0.08       115\n",
      "                 tools       0.00      0.00      0.00        35\n",
      "             hospitals       0.00      0.00      0.00        52\n",
      "                 shops       0.00      0.00      0.00        25\n",
      "           aid_centers       0.00      0.00      0.00        64\n",
      "  other_infrastructure       0.25      0.02      0.03       225\n",
      "       weather_related       0.78      0.60      0.68      1472\n",
      "                floods       0.78      0.35      0.48       431\n",
      "                 storm       0.70      0.49      0.58       479\n",
      "                  fire       0.50      0.08      0.13        53\n",
      "            earthquake       0.87      0.76      0.81       515\n",
      "                  cold       0.52      0.11      0.18       104\n",
      "         other_weather       0.45      0.09      0.15       267\n",
      "         direct_report       0.67      0.41      0.51      1010\n",
      "\n",
      "             micro avg       0.74      0.50      0.60     16609\n",
      "             macro avg       0.45      0.21      0.26     16609\n",
      "          weighted avg       0.67      0.50      0.55     16609\n",
      "           samples avg       0.63      0.46      0.48     16609\n",
      "\n"
     ]
    }
   ],
   "source": [
    "# Print classification report on test data\n",
    "print(classification_report(Y_test.values, Y_pred_cv, target_names=Y.columns.values, zero_division=0))"
   ]
  },
  {
   "cell_type": "code",
   "execution_count": 14,
   "metadata": {},
   "outputs": [
    {
     "name": "stdout",
     "output_type": "stream",
     "text": [
      "Labels: [0 1]\n",
      "Confusion Matrix:\n",
      " [[5087   27]\n",
      " [   0    0]]\n",
      "Accuracy:\n",
      " related                   0.787717\n",
      "request                   0.876597\n",
      "offer                     0.995422\n",
      "aid_related               0.708373\n",
      "medical_help              0.918749\n",
      "medical_products          0.949456\n",
      "search_and_rescue         0.972153\n",
      "security                  0.980545\n",
      "military                  0.969483\n",
      "child_alone               1.000000\n",
      "water                     0.951173\n",
      "food                      0.923326\n",
      "shelter                   0.925997\n",
      "clothing                  0.988175\n",
      "money                     0.977494\n",
      "missing_people            0.987412\n",
      "refugees                  0.966431\n",
      "death                     0.956704\n",
      "other_aid                 0.861339\n",
      "infrastructure_related    0.932863\n",
      "transport                 0.953652\n",
      "buildings                 0.949838\n",
      "electricity               0.978257\n",
      "tools                     0.993324\n",
      "hospitals                 0.989319\n",
      "shops                     0.995041\n",
      "aid_centers               0.987603\n",
      "other_infrastructure      0.955560\n",
      "weather_related           0.841503\n",
      "floods                    0.938203\n",
      "storm                     0.934770\n",
      "fire                      0.989891\n",
      "earthquake                0.964906\n",
      "cold                      0.980355\n",
      "other_weather             0.947931\n",
      "direct_report             0.847225\n",
      "dtype: float64\n",
      "Best Parameters: {'clf__estimator__n_estimators': 5}\n"
     ]
    }
   ],
   "source": [
    "# display a confusion matrix and accuracy score based on the model's predictions\n",
    "labels_cv = np.unique(Y_pred_cv)\n",
    "confusion_mat = confusion_matrix(Y_test.values.argmax(axis=1),Y_pred_cv.argmax(axis=1), labels=labels_cv)\n",
    "accuracy = (Y_pred_cv == Y_test).mean()\n",
    "\n",
    "print(\"Labels:\", labels_cv)\n",
    "print(\"Confusion Matrix:\\n\", confusion_mat)\n",
    "print(\"Accuracy:\\n\", accuracy)\n",
    "print(\"Best Parameters:\", cv.best_params_)"
   ]
  },
  {
   "cell_type": "markdown",
   "metadata": {},
   "source": [
    "### 8. Try improving your model further. Here are a few ideas:\n",
    "* try other machine learning algorithms\n",
    "* add other features besides the TF-IDF"
   ]
  },
  {
   "cell_type": "code",
   "execution_count": 15,
   "metadata": {},
   "outputs": [],
   "source": [
    "# define a custom transformer class \n",
    "# it extracts features from text data by determining if the text starts with a verb or not.\n",
    "\n",
    "class StartingVerbExtractor(BaseEstimator, TransformerMixin):\n",
    "\n",
    "    def starting_verb(self, text):\n",
    "        sentence_list = nltk.sent_tokenize(text)\n",
    "        for sentence in sentence_list:\n",
    "            pos_tags = nltk.pos_tag(tokenize(sentence))\n",
    "            if len(pos_tags) > 1:\n",
    "                \n",
    "                first_word, first_tag = pos_tags[0]\n",
    "            \n",
    "                \n",
    "                if first_tag in ['VB', 'VBP'] or first_word == 'RT':\n",
    "                    return 1\n",
    "                else:\n",
    "                    return 0\n",
    "            else:\n",
    "                return 0\n",
    "\n",
    "    def fit(self, x, y=None):\n",
    "        return self\n",
    "\n",
    "    def transform(self, X):\n",
    "        X_tagged = pd.Series(X).apply(self.starting_verb)\n",
    "        X_tagged = pd.DataFrame(X_tagged)\n",
    "        X_tagged = X_tagged.replace(np.nan, 0)\n",
    "        \n",
    "        return pd.DataFrame(X_tagged)"
   ]
  },
  {
   "cell_type": "code",
   "execution_count": 16,
   "metadata": {},
   "outputs": [],
   "source": [
    "# define a feature union pipeline with improved parameters\n",
    "pipeline_improved = Pipeline([\n",
    "        ('features', FeatureUnion([\n",
    "            ('text_pipeline', Pipeline([\n",
    "                ('vect', CountVectorizer(tokenizer=tokenize)),\n",
    "                ('tfidf', TfidfTransformer())\n",
    "            ])),\n",
    "\n",
    "            ('starting_verb', StartingVerbExtractor())\n",
    "        ])),\n",
    "\n",
    "        ('clf', MultiOutputClassifier(RandomForestClassifier(min_samples_split = 4)))\n",
    "    ])\n"
   ]
  },
  {
   "cell_type": "code",
   "execution_count": 17,
   "metadata": {},
   "outputs": [],
   "source": [
    "# Fit or train the classifier\n",
    "pipeline_improved_fit = pipeline_improved.fit(X_train, Y_train)"
   ]
  },
  {
   "cell_type": "code",
   "execution_count": 18,
   "metadata": {},
   "outputs": [],
   "source": [
    "# Predict test labels\n",
    "Y_imp_pred = pipeline_improved_fit.predict(X_test)"
   ]
  },
  {
   "cell_type": "code",
   "execution_count": 19,
   "metadata": {},
   "outputs": [
    {
     "name": "stdout",
     "output_type": "stream",
     "text": [
      "                        precision    recall  f1-score   support\n",
      "\n",
      "               related       0.84      0.95      0.89      3998\n",
      "               request       0.86      0.51      0.64       891\n",
      "                 offer       0.00      0.00      0.00        24\n",
      "           aid_related       0.76      0.70      0.73      2164\n",
      "          medical_help       0.71      0.10      0.18       435\n",
      "      medical_products       0.82      0.08      0.15       279\n",
      "     search_and_rescue       0.50      0.04      0.08       136\n",
      "              security       0.67      0.02      0.04        96\n",
      "              military       0.75      0.08      0.14       158\n",
      "           child_alone       0.00      0.00      0.00         0\n",
      "                 water       0.89      0.37      0.53       335\n",
      "                  food       0.87      0.63      0.73       584\n",
      "               shelter       0.84      0.40      0.54       468\n",
      "              clothing       0.90      0.13      0.23        70\n",
      "                 money       0.89      0.07      0.13       112\n",
      "        missing_people       0.00      0.00      0.00        63\n",
      "              refugees       0.64      0.04      0.08       170\n",
      "                 death       0.87      0.13      0.23       247\n",
      "             other_aid       0.52      0.04      0.07       692\n",
      "infrastructure_related       0.00      0.00      0.00       336\n",
      "             transport       0.68      0.07      0.13       235\n",
      "             buildings       0.93      0.09      0.17       269\n",
      "           electricity       1.00      0.03      0.07       115\n",
      "                 tools       0.00      0.00      0.00        35\n",
      "             hospitals       0.00      0.00      0.00        52\n",
      "                 shops       0.00      0.00      0.00        25\n",
      "           aid_centers       0.00      0.00      0.00        64\n",
      "  other_infrastructure       0.00      0.00      0.00       225\n",
      "       weather_related       0.86      0.71      0.78      1472\n",
      "                floods       0.91      0.42      0.57       431\n",
      "                 storm       0.79      0.52      0.63       479\n",
      "                  fire       1.00      0.02      0.04        53\n",
      "            earthquake       0.89      0.80      0.84       515\n",
      "                  cold       0.75      0.09      0.16       104\n",
      "         other_weather       0.67      0.04      0.07       267\n",
      "         direct_report       0.78      0.35      0.48      1010\n",
      "\n",
      "             micro avg       0.83      0.54      0.65     16609\n",
      "             macro avg       0.60      0.21      0.26     16609\n",
      "          weighted avg       0.77      0.54      0.58     16609\n",
      "           samples avg       0.67      0.48      0.52     16609\n",
      "\n"
     ]
    }
   ],
   "source": [
    "# Print classification report on test data\n",
    "print(classification_report(Y_test.values, Y_imp_pred, target_names=Y.columns.values, zero_division=0))"
   ]
  },
  {
   "cell_type": "code",
   "execution_count": 20,
   "metadata": {},
   "outputs": [
    {
     "name": "stdout",
     "output_type": "stream",
     "text": [
      "Labels: [0 1]\n",
      "Confusion Matrix:\n",
      " [[5231    2]\n",
      " [   0    0]]\n",
      "Accuracy:\n",
      " related                   0.825100\n",
      "request                   0.901583\n",
      "offer                     0.995422\n",
      "aid_related               0.784284\n",
      "medical_help              0.922182\n",
      "medical_products          0.950219\n",
      "search_and_rescue         0.974061\n",
      "security                  0.981881\n",
      "military                  0.971390\n",
      "child_alone               1.000000\n",
      "water                     0.957086\n",
      "food                      0.948312\n",
      "shelter                   0.939538\n",
      "clothing                  0.988175\n",
      "money                     0.979973\n",
      "missing_people            0.987984\n",
      "refugees                  0.968148\n",
      "death                     0.958230\n",
      "other_aid                 0.868396\n",
      "infrastructure_related    0.935533\n",
      "transport                 0.956895\n",
      "buildings                 0.953080\n",
      "electricity               0.978829\n",
      "tools                     0.993324\n",
      "hospitals                 0.990082\n",
      "shops                     0.995232\n",
      "aid_centers               0.987793\n",
      "other_infrastructure      0.957086\n",
      "weather_related           0.885752\n",
      "floods                    0.948693\n",
      "storm                     0.943735\n",
      "fire                      0.990082\n",
      "earthquake                0.970437\n",
      "cold                      0.981308\n",
      "other_weather             0.950029\n",
      "direct_report             0.855426\n",
      "dtype: float64\n"
     ]
    }
   ],
   "source": [
    "# display a confusion matrix and accuracy score based on the model's predictions\n",
    "labels_imp = np.unique(Y_imp_pred)\n",
    "confusion_mat = confusion_matrix(Y_test.values.argmax(axis=1),Y_imp_pred.argmax(axis=1), labels=labels_imp)\n",
    "accuracy = (Y_imp_pred == Y_test).mean()\n",
    "\n",
    "print(\"Labels:\", labels_imp)\n",
    "print(\"Confusion Matrix:\\n\", confusion_mat)\n",
    "print(\"Accuracy:\\n\", accuracy)\n",
    "    "
   ]
  },
  {
   "cell_type": "markdown",
   "metadata": {},
   "source": [
    "### 9. Export your model as a pickle file"
   ]
  },
  {
   "cell_type": "code",
   "execution_count": 21,
   "metadata": {},
   "outputs": [],
   "source": [
    "#Save the model as a pickle file\n",
    "pickle.dump(pipeline_improved_fit, open('classifier.pkl', \"wb\"))"
   ]
  },
  {
   "cell_type": "markdown",
   "metadata": {},
   "source": [
    "### 10. Use this notebook to complete `train.py`\n",
    "Use the template file attached in the Resources folder to write a script that runs the steps above to create a database and export a model based on a new dataset specified by the user."
   ]
  },
  {
   "cell_type": "code",
   "execution_count": null,
   "metadata": {},
   "outputs": [],
   "source": []
  }
 ],
 "metadata": {
  "kernelspec": {
   "display_name": "Python 3 (ipykernel)",
   "language": "python",
   "name": "python3"
  },
  "language_info": {
   "codemirror_mode": {
    "name": "ipython",
    "version": 3
   },
   "file_extension": ".py",
   "mimetype": "text/x-python",
   "name": "python",
   "nbconvert_exporter": "python",
   "pygments_lexer": "ipython3",
   "version": "3.9.18"
  }
 },
 "nbformat": 4,
 "nbformat_minor": 4
}
